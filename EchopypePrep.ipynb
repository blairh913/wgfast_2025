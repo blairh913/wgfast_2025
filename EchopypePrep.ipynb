{
 "cells": [
  {
   "cell_type": "code",
   "execution_count": 1,
   "id": "d05d3bc7",
   "metadata": {},
   "outputs": [
    {
     "name": "stdout",
     "output_type": "stream",
     "text": [
      "python\n"
     ]
    }
   ],
   "source": [
    "print('python')"
   ]
  },
  {
   "cell_type": "code",
   "execution_count": 2,
   "id": "172e94fd",
   "metadata": {},
   "outputs": [],
   "source": [
    "import numpy as np"
   ]
  },
  {
   "cell_type": "code",
   "execution_count": 3,
   "id": "8a88dfce",
   "metadata": {},
   "outputs": [],
   "source": [
    "import math"
   ]
  },
  {
   "cell_type": "code",
   "execution_count": 4,
   "id": "4186a8d5",
   "metadata": {},
   "outputs": [],
   "source": [
    "import pandas as pd"
   ]
  },
  {
   "cell_type": "code",
   "execution_count": 5,
   "id": "1c90614b",
   "metadata": {},
   "outputs": [],
   "source": [
    "def wavelength(f, c=1500):\n",
    "    \"\"\"\n",
    "    Calculate\n",
    "    \"\"\"\n",
    "    return c/f"
   ]
  },
  {
   "cell_type": "code",
   "execution_count": 6,
   "id": "4aa31236",
   "metadata": {},
   "outputs": [],
   "source": [
    "def wave_number(l):\n",
    "    return (2*pi)/l"
   ]
  },
  {
   "cell_type": "code",
   "execution_count": 7,
   "id": "5a2d6ea7",
   "metadata": {},
   "outputs": [],
   "source": [
    "def active_radius(k,bw):\n",
    "    return 3.2/(k*sin(bw/2))"
   ]
  },
  {
   "cell_type": "code",
   "execution_count": 8,
   "id": "77f602d3",
   "metadata": {},
   "outputs": [],
   "source": [
    "def nearfieldRound(dt,l):\n",
    "    (pi*(dt^2)) / (4*l)"
   ]
  },
  {
   "cell_type": "code",
   "execution_count": 9,
   "id": "5539f58e",
   "metadata": {},
   "outputs": [],
   "source": [
    "def badz(d,q,T,c=1500):\n",
    "    (d/sin(90-q)) - d + c * (T/2)"
   ]
  },
  {
   "cell_type": "code",
   "execution_count": 10,
   "id": "6496d198",
   "metadata": {},
   "outputs": [
    {
     "data": {
      "text/html": [
       "<div>\n",
       "<style scoped>\n",
       "    .dataframe tbody tr th:only-of-type {\n",
       "        vertical-align: middle;\n",
       "    }\n",
       "\n",
       "    .dataframe tbody tr th {\n",
       "        vertical-align: top;\n",
       "    }\n",
       "\n",
       "    .dataframe thead th {\n",
       "        text-align: right;\n",
       "    }\n",
       "</style>\n",
       "<table border=\"1\" class=\"dataframe\">\n",
       "  <thead>\n",
       "    <tr style=\"text-align: right;\">\n",
       "      <th></th>\n",
       "      <th>First</th>\n",
       "      <th>Second</th>\n",
       "    </tr>\n",
       "  </thead>\n",
       "  <tbody>\n",
       "    <tr>\n",
       "      <th>0</th>\n",
       "      <td>1</td>\n",
       "      <td>One</td>\n",
       "    </tr>\n",
       "    <tr>\n",
       "      <th>1</th>\n",
       "      <td>2</td>\n",
       "      <td>Two</td>\n",
       "    </tr>\n",
       "    <tr>\n",
       "      <th>2</th>\n",
       "      <td>3</td>\n",
       "      <td>Three</td>\n",
       "    </tr>\n",
       "  </tbody>\n",
       "</table>\n",
       "</div>"
      ],
      "text/plain": [
       "   First Second\n",
       "0      1    One\n",
       "1      2    Two\n",
       "2      3  Three"
      ]
     },
     "execution_count": 10,
     "metadata": {},
     "output_type": "execute_result"
    }
   ],
   "source": [
    "pd.DataFrame({'First':[1,2,3],\n",
    "             \"Second\":[\"One\",\"Two\",\"Three\"]})"
   ]
  },
  {
   "cell_type": "code",
   "execution_count": null,
   "id": "537ceedf",
   "metadata": {},
   "outputs": [],
   "source": [
    "mamba install -c conda"
   ]
  }
 ],
 "metadata": {
  "kernelspec": {
   "display_name": "Python 3 (ipykernel)",
   "language": "python",
   "name": "python3"
  },
  "language_info": {
   "codemirror_mode": {
    "name": "ipython",
    "version": 3
   },
   "file_extension": ".py",
   "mimetype": "text/x-python",
   "name": "python",
   "nbconvert_exporter": "python",
   "pygments_lexer": "ipython3",
   "version": "3.12.9"
  }
 },
 "nbformat": 4,
 "nbformat_minor": 5
}
